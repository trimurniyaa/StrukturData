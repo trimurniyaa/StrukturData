{
  "nbformat": 4,
  "nbformat_minor": 0,
  "metadata": {
    "colab": {
      "provenance": []
    },
    "kernelspec": {
      "name": "python3",
      "display_name": "Python 3"
    },
    "language_info": {
      "name": "python"
    }
  },
  "cells": [
    {
      "cell_type": "markdown",
      "source": [
        "##**Exercise 9 Struktur Data**"
      ],
      "metadata": {
        "id": "20W6snkfDstm"
      }
    },
    {
      "cell_type": "markdown",
      "source": [
        "##Introduction Section"
      ],
      "metadata": {
        "id": "NP-CGEyNDyGI"
      }
    },
    {
      "cell_type": "markdown",
      "source": [
        "1. Jelaskan definisi object dalam Paradigma Object-Oriented!\n",
        "2. Jelaskan tiga tujuan dalam Paradigma Object-Oriented!\n",
        "3. Jelaskan tiga prinsip dalam Paradigma Object-Oriented!\n",
        "4. Sebutkan contoh design pattern dalam Paradigma Object-Oriented!"
      ],
      "metadata": {
        "id": "Wn_vMxeDD3bI"
      }
    },
    {
      "cell_type": "markdown",
      "source": [
        "## **Jawaban**\n",
        "1. Object Oriented adalah konsep pemrograman yang menggabungkan function dan class dalam satu file. Fungsi dan class tersebut juga hanya perlu ditulis sekali tidak perlu ditulis kembali jika ingin menggunakannya.\n",
        "2. Tujuan dari Paradigma Object Oriented adalah untuk menciptakan program yang :\n",
        "- mudah dikelola,\n",
        "- jelas,\n",
        "- handal\n",
        "3. Tiga prinsip Paradigma Object Oriented adalah :\n",
        "- Encapsulation yaitu metode untuk menggabungkan data menjadi satu.\n",
        "- Inheritance yaitu pewarisan sifat kepada class baru yang dibuat.\n",
        "- Abstract Class yaitu class-class yang sifatnya abstrak dari sekumpulan data yang sudah ada. Tetapi abstrack class tidak bisa diubah yang berarti tetap.\n",
        "- Polymorphism yaitu satu interface yang bisa diakses oleh objek yang berbeda.\n",
        "4. Contoh design pattern adalah iterator, yaitu koleksi objek yang dibuat secara berurut. Misalnya list, stack, tree, dan lain-lain."
      ],
      "metadata": {
        "id": "uw4lCmiSEDh1"
      }
    },
    {
      "cell_type": "markdown",
      "source": [
        "##Class and Object"
      ],
      "metadata": {
        "id": "Wa_NwqphJ--G"
      }
    },
    {
      "cell_type": "markdown",
      "source": [
        "1. Jelaskan definisi Class!\n",
        "2. Jelaskan perbedaan Attribute dengan Method!\n",
        "3. Jelaskan apa itu instansiasi Object!\n",
        "4. Jelaskan apa itu identifier!"
      ],
      "metadata": {
        "id": "qQQ2b-YoKEHa"
      }
    },
    {
      "cell_type": "markdown",
      "source": [
        "**Jawaban**\n",
        "1. Class adalah blueprint (cetakan) dari objek yang dibuat.\n",
        "2.  Atribut adalah representasi variabel yang dimiliki oleh sebuah objek, sedangkan method adalah fungsi atau perilaku yang dimiliki oleh suatu objek. \n",
        "3. Instansiasi Object adalah pembuatan object dari sebuah class.\n",
        "4. Identifier adalah nama yang diberikan untuk mengidentifikasi seperti nama variabel, function, class, dan lain-lain."
      ],
      "metadata": {
        "id": "H3W1skOWKICw"
      }
    },
    {
      "cell_type": "markdown",
      "source": [
        "##Implementing Class"
      ],
      "metadata": {
        "id": "aCtqJ_5QMwrE"
      }
    },
    {
      "cell_type": "markdown",
      "source": [
        "## __Implementing Class__\n",
        "Implementasikan kelas diagram \"Kendaraan\" berikut ke dalam Python!\n",
        "\n",
        "   Class Kendaraan :\n",
        "   \n",
        "    - string nomorPlat\n",
        "    - string merk\n",
        "    - string jenis\n",
        "    - string warna\n",
        "    - int tanggalBeli\n",
        "    - int bulanBeli\n",
        "    - int tahunBeli\n",
        "    - double berat\n",
        "    - double harga\n",
        "    - showTanggalPembelian()"
      ],
      "metadata": {
        "id": "DRM0_zfNR1dT"
      }
    },
    {
      "cell_type": "markdown",
      "source": [
        "**Jawaban**"
      ],
      "metadata": {
        "id": "9b03wZlsM_I3"
      }
    },
    {
      "cell_type": "code",
      "source": [
        "class Kendaraan:\n",
        "  def __init__ (self, nomorPlat, merk, jenis, warna, tanggalBeli, bulanBeli, tahunBeli, berat, harga):\n",
        "    self.nomorPlat = nomorPlat\n",
        "    self.merk  = merk \n",
        "    self.jenis = jenis\n",
        "    self.warna = warna\n",
        "    self.tanggalBeli = tanggalBeli  \n",
        "    self.bulanBeli = bulanBeli  \n",
        "    self.tahunBeli = tahunBeli\n",
        "    self.berat = berat\n",
        "    self.harga = harga\n",
        "  \n",
        "  def showTanggalPembelian(self):\n",
        "    print(f\"Kendaraan dengan Nomor Plat {self.nomorPlat}\\n merk {self.merk}\\n jenis {self.jenis}\\n warna {self.warna}\\n dibeli pada {self.tanggalBeli}/{self.bulanBeli}/{self.tahunBeli}\\n dengan berat {self.berat}\\n seharga {self.harga}\")\n",
        "\n",
        "motor = Kendaraan(\"F 2301 TR \", \"Suzuki\", \"Matic\", \"Hitam\", 23, 11, 2013, 450, 5000000)\n",
        "motor.showTanggalPembelian()"
      ],
      "metadata": {
        "colab": {
          "base_uri": "https://localhost:8080/"
        },
        "id": "wnV3yu-BQZd4",
        "outputId": "54143d6a-8e93-4fc9-aedf-f58536f1d0fd"
      },
      "execution_count": null,
      "outputs": [
        {
          "output_type": "stream",
          "name": "stdout",
          "text": [
            "Kendaraan dengan Nomor Plat F 2301 TR \n",
            " merk Suzuki\n",
            " jenis Matic\n",
            " warna Hitam\n",
            " dibeli pada 23/11/2013\n",
            " dengan berat 450\n",
            " seharga 5000000\n"
          ]
        }
      ]
    },
    {
      "cell_type": "markdown",
      "source": [
        "##**Main OOP Concept**"
      ],
      "metadata": {
        "id": "DoZYt6QcUSil"
      }
    },
    {
      "cell_type": "markdown",
      "source": [
        "1. Jelaskan konsep encapsulation dalam Paradigma Object-Oriented!\n",
        "2. Jelaskan konsep inheritance dalam Paradigma Object-Oriented!\n",
        "3. Jelaskan perbedaan public method dan private method dalam encapsulation!\n",
        "4. Jelaskan perbedaan superclass dan subclass dalam inheritance!"
      ],
      "metadata": {
        "id": "T4ah82d5UXdF"
      }
    },
    {
      "cell_type": "markdown",
      "source": [
        "**Jawaban**\n",
        "1. Encapsulation adalah konsep pengikatan informasi yang disatukan menjadi satu unit agar memudahkan pengguna dalam membacanya.\n",
        "2. Inheritance adalah class baru yang diwarisi atau diturunkan dari class yang sudah ada sebelumnya.\n",
        "3. Public method adalah method yang bisa diakses oleh seluruh class sedangkan private method adalah method yang hanya bisa diakses oleh class itu sendiri yang ditandai dengan tanda underscore (_) saat penamaan variabel.\n",
        "4. Superclass adalah class utama yang dibuat saat pembuatan class sedangkan subclass adalah bagian dari superclass yang sifat atau perilakunya sama dengan superclass."
      ],
      "metadata": {
        "id": "BxkNMADUUbxU"
      }
    },
    {
      "cell_type": "markdown",
      "source": [
        "##**Programming Exercise**\n",
        "Buatlah class diagram dari code python berikut ini:"
      ],
      "metadata": {
        "id": "ZhVW36icY2jr"
      }
    },
    {
      "cell_type": "code",
      "source": [
        "class Koordinat:\n",
        "\tdef __init__(self,x,y):\n",
        "\t\tself.z = 0\n",
        "\t\tself.x = x\n",
        "\t\tself.y = y\n",
        "\tdef set_x(self,x):\n",
        "\t\tself.x = x\n",
        "\tdef increment_x(self):\n",
        "\t\tself.x+=1\n",
        "\tdef __str__(self):\n",
        "\t\treturn f\"x : {self.x} , y:{self.y} , z:{self.z}\""
      ],
      "metadata": {
        "id": "_Z2vWf9QZAik"
      },
      "execution_count": null,
      "outputs": []
    },
    {
      "cell_type": "markdown",
      "source": [
        "<table>\n",
        "  <tr>\n",
        "    <th>\n",
        "      Koordinat\n",
        "    </th>\n",
        "  </tr>\n",
        "  <tr>\n",
        "    <td>\n",
        "      z = 0 <br>\n",
        "      x = x <br>\n",
        "      y = y\n",
        "    </td>\n",
        "  </tr>\n",
        "  <tr>\n",
        "    <td>set_x() <br><br> increment_x() <br><br> __str__() </td>\n",
        "  </tr>\n",
        "</table>"
      ],
      "metadata": {
        "id": "V80xdVcMZYdH"
      }
    },
    {
      "cell_type": "markdown",
      "source": [
        "Implementasikan class diagram berikut menjadi program python!\n",
        "\n",
        "<table>\n",
        "  <tr>\n",
        "    <th>Koordinat</th>\n",
        "  </tr>\n",
        "  <tr>\n",
        "    <td>int x <br><br> int y <br><br> int z </td>\n",
        "  </tr>\n",
        "  <tr>\n",
        "    <td>setx() <br><br> sety() <br><br> setz() </td>\n",
        "  </tr>\n",
        "</table>"
      ],
      "metadata": {
        "id": "CqYDHNrQaXUE"
      }
    },
    {
      "cell_type": "code",
      "source": [
        "class Koordinat:\n",
        "\tdef __init__(self,x,y):\n",
        "\t\tself.z = x\n",
        "\t\tself.x = y\n",
        "\t\tself.y = z\n",
        "\tdef set_x(self,x):\n",
        "\t\tself.x = x\n",
        "\tdef sety(self,y):\n",
        "\t\tself.y = y\n",
        "  def setz(self,z):\n",
        "    self.z = z\n",
        "\tdef __str__(self):\n",
        "\t\treturn f\"x : {self.x} , y:{self.y} , z:{self.z}\""
      ],
      "metadata": {
        "id": "GdY1iB99aWtv"
      },
      "execution_count": null,
      "outputs": []
    },
    {
      "cell_type": "markdown",
      "source": [
        "<center>\n",
        "<table>\n",
        "  <tr>\n",
        "    <th>Vector</th>\n",
        "  </tr>\n",
        "  <tr>\n",
        "    <td>Koordinat Koordinat</td>\n",
        "  </tr>\n",
        "  <tr>\n",
        "    <td>setKoordinat() <br><br> getKoordinat() <br><br> norm()</td>\n",
        "  </tr>\n",
        "</table>"
      ],
      "metadata": {
        "id": "n24KxOAbbB0j"
      }
    },
    {
      "cell_type": "code",
      "source": [
        "class Vector:\n",
        "  def __init__(self, koordinat):\n",
        "    self.koordinat = koordinat\n",
        "  def setKoordinat(self, koor):\n",
        "    self.koordinat = koor\n",
        "  def getKoordinat(self, y):\n",
        "    return self.koordinat\n",
        "  def norm(self):\n",
        "    norm = 0\n",
        "    for i in range(len(self.koordinat)):\n",
        "      norm = norm + self.koordinat[i]**2\n",
        "    return norm**0.5"
      ],
      "metadata": {
        "id": "6end7s0SbDKe"
      },
      "execution_count": null,
      "outputs": []
    },
    {
      "cell_type": "markdown",
      "source": [
        "- fungsi norm() adalah fungsi untuk menghitung norm dari sebuah vector yaitu\n",
        "norm = $\\sqrt{x^2 + y^2 + z^2}$ . Buatlah fungsi untuk menghitung norm dari vector berdasarkan class yang telah anda buat! "
      ],
      "metadata": {
        "id": "uACUWxpVbU_O"
      }
    },
    {
      "cell_type": "code",
      "source": [
        "class Vector:\n",
        "  def __init__(self, koordinat):\n",
        "      self.koordinat = koordinat\n",
        "  def setKoordinat(self, koor):\n",
        "      self.koordinat = koor\n",
        "  def getKoordinat(self, y):\n",
        "      return self.koordinat\n",
        "  def norm(self):\n",
        "      norm = 0\n",
        "      for i in range(len(self.koordinat)):\n",
        "        norm = norm + self.koordinat[i]**2\n",
        "      return norm**0.5\n",
        "\n",
        "koordinat = Vector([7, 24, 25])\n",
        "koordinat.norm()"
      ],
      "metadata": {
        "id": "sJYfNF1rbYTZ"
      },
      "execution_count": null,
      "outputs": []
    },
    {
      "cell_type": "markdown",
      "source": [
        "- Euclidian Distance adalah jarak antara 2 vector dan didefinisikan sebagai \n",
        "\n",
        "\n",
        "$$d = \\sqrt{ (x_1 - x_2)^2 + (y_1 - y_2)^2 + (x_1 - x_2)^2 } $$\n",
        "\n",
        "buatlah program untuk menghitung euclidian distance antara 2 vector berdasarkan class yang telah anda buat!"
      ],
      "metadata": {
        "id": "C4YGzOQkbbPo"
      }
    },
    {
      "cell_type": "code",
      "source": [
        "class Vector:\n",
        "  def __init__(self, vector1, vector2):\n",
        "    self.vector1 = vector1\n",
        "    self.vector2 = vector2\n",
        "  def euclidian_distance(self):\n",
        "    distance = 0\n",
        "    for i in range(len(self.vector1)):\n",
        "      distance = distance + (self.vector1[i] - self.vector2[i])**2\n",
        "    return distance**0.5\n",
        "  \n",
        "jarak = Vector([3, 4, 5], [7, 24, 25])\n",
        "jarak.euclidian_distance()"
      ],
      "metadata": {
        "id": "a00ac8a4bfQN"
      },
      "execution_count": null,
      "outputs": []
    },
    {
      "cell_type": "markdown",
      "source": [
        "- Perhatikan tabel berikut\n",
        "\n",
        "| Vector | x   | y   | z   | kelas |\n",
        "| ------ | --- | --- | --- | ----- |\n",
        "| A      | 0   | 1   | 1   | 0     |\n",
        "| B      | 2   | 2   | 2   | 1     |\n",
        "| C      | 1.5 | 1.2 | 1.5 | 1     |\n",
        "| D      | 10  | 9   | 8   | 0     |\n",
        "| E      | 5   | 5   | 5   | 0     |\n",
        "| F      | 8   | 8   | 8   | 0     |\n",
        "| G      | 6   | 6   | 1   | 0     |\n",
        "| H      | 3   | 3   | 3   | ?     |\n",
        "\n",
        "Salah satu metode dalam data science untuk melakukan klasifikasi adalah dengan menggunakan k-nearest neighbor, dimana cara menentukan label kelas adalah dengan cara melihat tetangga dengan euclidian distance terdekat. Tentukan kelas dari vector H dengan cara:\n",
        "- Tentukan 3 tetangga paling dekat dari H \n",
        "- dari 3 tetangga tersebut, pilih kelas yang paling banyak muncul\n",
        "- Jadikan kelas yang paling banyak muncul tersebut sebagai kelas dari vector H\n",
        "\n",
        "Implementasikan algoritma tersebut menggunakan program python dengan paradigma object-oriented programming yang telah anda pelajari!"
      ],
      "metadata": {
        "id": "tNbQ98TPbhYk"
      }
    },
    {
      "cell_type": "code",
      "source": [
        "from math import sqrt\n",
        "import statistics\n",
        "class Vektor:\n",
        "  def __init__(self, vektor, x, y, z, nama_vektor):\n",
        "    self.vektor = vektor\n",
        "    self.x = x\n",
        "    self.y = y\n",
        "    self.z = z\n",
        "    self.nama_vektor = nama_vektor\n",
        "    self.kls_h = 0\n",
        "\n",
        "  def jarak(self):\n",
        "    vkt = []\n",
        "    jarak = []\n",
        "    # Jarak tetangga\n",
        "    for i in self.vektor:\n",
        "        komponen_vektor = list(self.vektor[i].values())\n",
        "        def dekat(komponen_vektor):\n",
        "            distance = 0\n",
        "            for i in komponen_vektor:\n",
        "                distance = sqrt((self.x-komponen_vektor[1])**2 + (self.y-komponen_vektor[2])**2 + (self.z-komponen_vektor[3])**2)\n",
        "            return distance\n",
        "        vkt = vkt + [self.vektor[i]]\n",
        "        jarak = jarak + [round(dekat(komponen_vektor), 2)]\n",
        "        print(f\"Jarak vektor {self.vektor[i]['vektor']} dengan vektor H adalah sebesar {round(dekat(komponen_vektor), 2)}\")\n",
        "    val_sorted = sorted(jarak)\n",
        "    tetangga = {}\n",
        "    for i in range(len(jarak)):\n",
        "        tetangga[jarak[i]] = vkt[i]    \n",
        "    print(\"Urutannya adalah:\")\n",
        "    for j in range(len(val_sorted)): \n",
        "        print(f\"Jarak vektor {tetangga[val_sorted[j]]['vektor']} dengan vektor H adalah sebesar {val_sorted[j]}\")\n",
        "    print(\"3 Tetangga terdekat:\")\n",
        "    kls = []\n",
        "    for k in range(3):\n",
        "        print(f\"Vektor {tetangga[val_sorted[k]]['vektor']} dengan kelas {tetangga[val_sorted[k]]['kelas']} pada jarak {val_sorted[k]} dengan vektor H\")\n",
        "        kls = kls + [tetangga[val_sorted[k]]['kelas']]\n",
        "    self.kls_h = statistics.mode(kls)\n",
        "    print(\"Kelas yang paling banyak muncul adalah = \", self.kls_h)\n",
        "    print(\"Kelas dari vektor H = \", self.kls_h)\n",
        "\n",
        "  def kelas(self):\n",
        "    return {'vektor': self.nama_vektor, 'x' : self.x, 'y' : self.y, 'z': self.z, 'kelas': self.kls_h}\n",
        "\n"
      ],
      "metadata": {
        "id": "YvWSv-4UblWu"
      },
      "execution_count": null,
      "outputs": []
    },
    {
      "cell_type": "code",
      "source": [
        "tabel = {\n",
        "    \"vektor1\" : {'vektor': 'A', 'x' : 0, 'y' : 1, 'z': 1, 'kelas': 0 },\n",
        "    \"vektor2\" : {'vektor': 'B', 'x' : 2, 'y' : 2, 'z': 2, 'kelas': 1},\n",
        "    \"vektor3\" : {'vektor': 'C', 'x' : 1.5, 'y' : 1.2, 'z': 1, 'kelas': 1},\n",
        "    \"vektor4\" : {'vektor': 'D', 'x' : 10, 'y' : 9, 'z': 0, 'kelas': 0},\n",
        "    \"vektor5\" : {'vektor': 'E', 'x' : 5, 'y' : 5, 'z': 5, 'kelas': 0},\n",
        "    \"vektor6\" : {'vektor': 'F', 'x' : 8, 'y' : 8, 'z': 0, 'kelas': 0},\n",
        "    \"vektor7\" : {'vektor': 'G', 'x' : 6, 'y' : 6, 'z': 0, 'kelas': 0},\n",
        "}\n",
        "for key in tabel:\n",
        "    print(tabel[key])\n",
        "vektorh = [3, 3, 3, \"H\"]\n",
        "print(\"\\n\")\n",
        "print({'vektor': vektorh[3], 'x' : vektorh[0], 'y' : vektorh[1], 'z': vektorh[2], 'kelas': '?'})\n",
        "print(\"\\n\")\n",
        "data = Vektor(tabel, vektorh[0], vektorh[1], vektorh[2], vektorh[3])\n",
        "data.jarak()\n",
        "print(data.kelas())\n",
        "tabel[\"vektor8\"] = data.kelas()\n",
        "print(\"\\n\")\n",
        "for key in tabel:\n",
        "    print(tabel[key])\n"
      ],
      "metadata": {
        "id": "9Ww5aF76boS9"
      },
      "execution_count": null,
      "outputs": []
    },
    {
      "cell_type": "markdown",
      "source": [],
      "metadata": {
        "id": "NGI1pTMSbkg0"
      }
    }
  ]
}